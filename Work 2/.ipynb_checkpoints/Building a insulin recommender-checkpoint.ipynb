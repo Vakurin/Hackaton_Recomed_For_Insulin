{
 "cells": [
  {
   "cell_type": "markdown",
   "metadata": {},
   "source": [
    "# Building a insulin recommender"
   ]
  },
  {
   "cell_type": "code",
   "execution_count": 15,
   "metadata": {},
   "outputs": [],
   "source": [
    "%matplotlib inline\n",
    "\n",
    "import pandas as pd\n",
    "from sklearn.model_selection import train_test_split\n",
    "import numpy as np\n",
    "import time\n",
    "from sklearn.externals import joblib\n",
    "import Recommenders as Recommenders\n",
    "import Evaluation as Evaluation"
   ]
  },
  {
   "cell_type": "markdown",
   "metadata": {},
   "source": [
    "# Load Eats Data"
   ]
  },
  {
   "cell_type": "code",
   "execution_count": 4,
   "metadata": {},
   "outputs": [],
   "source": [
    "rating = pd.read_csv('Dataset/Eats_Rating_Dataset.csv', encoding = 'utf-8')"
   ]
  },
  {
   "cell_type": "markdown",
   "metadata": {},
   "source": [
    "# Explore Data\n",
    "Eats show like user this food or not"
   ]
  },
  {
   "cell_type": "code",
   "execution_count": 5,
   "metadata": {},
   "outputs": [
    {
     "data": {
      "text/html": [
       "<div>\n",
       "<style scoped>\n",
       "    .dataframe tbody tr th:only-of-type {\n",
       "        vertical-align: middle;\n",
       "    }\n",
       "\n",
       "    .dataframe tbody tr th {\n",
       "        vertical-align: top;\n",
       "    }\n",
       "\n",
       "    .dataframe thead th {\n",
       "        text-align: right;\n",
       "    }\n",
       "</style>\n",
       "<table border=\"1\" class=\"dataframe\">\n",
       "  <thead>\n",
       "    <tr style=\"text-align: right;\">\n",
       "      <th></th>\n",
       "      <th>user_id</th>\n",
       "      <th>eats_id</th>\n",
       "      <th>rating</th>\n",
       "    </tr>\n",
       "  </thead>\n",
       "  <tbody>\n",
       "    <tr>\n",
       "      <th>0</th>\n",
       "      <td>42</td>\n",
       "      <td>1105</td>\n",
       "      <td>1</td>\n",
       "    </tr>\n",
       "    <tr>\n",
       "      <th>1</th>\n",
       "      <td>23</td>\n",
       "      <td>759</td>\n",
       "      <td>0</td>\n",
       "    </tr>\n",
       "    <tr>\n",
       "      <th>2</th>\n",
       "      <td>10</td>\n",
       "      <td>40</td>\n",
       "      <td>0</td>\n",
       "    </tr>\n",
       "    <tr>\n",
       "      <th>3</th>\n",
       "      <td>76</td>\n",
       "      <td>206</td>\n",
       "      <td>1</td>\n",
       "    </tr>\n",
       "    <tr>\n",
       "      <th>4</th>\n",
       "      <td>1</td>\n",
       "      <td>1139</td>\n",
       "      <td>1</td>\n",
       "    </tr>\n",
       "  </tbody>\n",
       "</table>\n",
       "</div>"
      ],
      "text/plain": [
       "   user_id  eats_id  rating\n",
       "0       42     1105       1\n",
       "1       23      759       0\n",
       "2       10       40       0\n",
       "3       76      206       1\n",
       "4        1     1139       1"
      ]
     },
     "execution_count": 5,
     "metadata": {},
     "output_type": "execute_result"
    }
   ],
   "source": [
    "rating.head()"
   ]
  },
  {
   "cell_type": "markdown",
   "metadata": {},
   "source": [
    "# Count number of unique users in the dataset"
   ]
  },
  {
   "cell_type": "code",
   "execution_count": 6,
   "metadata": {},
   "outputs": [],
   "source": [
    "users = rating['user_id'].unique()"
   ]
  },
  {
   "cell_type": "code",
   "execution_count": 7,
   "metadata": {},
   "outputs": [
    {
     "data": {
      "text/plain": [
       "120"
      ]
     },
     "execution_count": 7,
     "metadata": {},
     "output_type": "execute_result"
    }
   ],
   "source": [
    "len(users)"
   ]
  },
  {
   "cell_type": "markdown",
   "metadata": {},
   "source": [
    "# Count number of unique users in the dataset"
   ]
  },
  {
   "cell_type": "code",
   "execution_count": 8,
   "metadata": {},
   "outputs": [
    {
     "data": {
      "text/plain": [
       "775"
      ]
     },
     "execution_count": 8,
     "metadata": {},
     "output_type": "execute_result"
    }
   ],
   "source": [
    "eats = rating['eats_id'].unique()\n",
    "len(eats)"
   ]
  },
  {
   "cell_type": "markdown",
   "metadata": {},
   "source": [
    "# Load dataset Eats Names"
   ]
  },
  {
   "cell_type": "code",
   "execution_count": 9,
   "metadata": {},
   "outputs": [],
   "source": [
    "eats_names = pd.read_csv('Dataset/Eats_Names_Dataset.csv', encoding = 'utf-8')"
   ]
  },
  {
   "cell_type": "code",
   "execution_count": 10,
   "metadata": {},
   "outputs": [],
   "source": [
    "eats_names.rename(index=str,columns={'eat_id':'eats_id'}, inplace=True)"
   ]
  },
  {
   "cell_type": "markdown",
   "metadata": {},
   "source": [
    "# Merge Two Data Sets"
   ]
  },
  {
   "cell_type": "code",
   "execution_count": 11,
   "metadata": {},
   "outputs": [],
   "source": [
    "result = pd.merge(eats_names, rating, on='eats_id')"
   ]
  },
  {
   "cell_type": "code",
   "execution_count": 12,
   "metadata": {},
   "outputs": [
    {
     "name": "stdout",
     "output_type": "stream",
     "text": [
      "(1199, 8)\n"
     ]
    },
    {
     "data": {
      "text/html": [
       "<div>\n",
       "<style scoped>\n",
       "    .dataframe tbody tr th:only-of-type {\n",
       "        vertical-align: middle;\n",
       "    }\n",
       "\n",
       "    .dataframe tbody tr th {\n",
       "        vertical-align: top;\n",
       "    }\n",
       "\n",
       "    .dataframe thead th {\n",
       "        text-align: right;\n",
       "    }\n",
       "</style>\n",
       "<table border=\"1\" class=\"dataframe\">\n",
       "  <thead>\n",
       "    <tr style=\"text-align: right;\">\n",
       "      <th></th>\n",
       "      <th>eats_id</th>\n",
       "      <th>Food name</th>\n",
       "      <th>CHO (g/100g)</th>\n",
       "      <th>GI value</th>\n",
       "      <th>GL</th>\n",
       "      <th>GI confidence level</th>\n",
       "      <th>user_id</th>\n",
       "      <th>rating</th>\n",
       "    </tr>\n",
       "  </thead>\n",
       "  <tbody>\n",
       "    <tr>\n",
       "      <th>0</th>\n",
       "      <td>1</td>\n",
       "      <td>Goats milk soft cheese. full fat. white rind</td>\n",
       "      <td>1.0</td>\n",
       "      <td>34.0</td>\n",
       "      <td>0.0</td>\n",
       "      <td>3</td>\n",
       "      <td>66</td>\n",
       "      <td>1</td>\n",
       "    </tr>\n",
       "    <tr>\n",
       "      <th>1</th>\n",
       "      <td>6</td>\n",
       "      <td>Chinese herb soup. mixture 3. ching bo leung. ...</td>\n",
       "      <td>3.7</td>\n",
       "      <td>70.0</td>\n",
       "      <td>3.0</td>\n",
       "      <td>5</td>\n",
       "      <td>47</td>\n",
       "      <td>1</td>\n",
       "    </tr>\n",
       "    <tr>\n",
       "      <th>2</th>\n",
       "      <td>9</td>\n",
       "      <td>Sag. cooked dish</td>\n",
       "      <td>5.5</td>\n",
       "      <td>70.0</td>\n",
       "      <td>4.0</td>\n",
       "      <td>5</td>\n",
       "      <td>35</td>\n",
       "      <td>0</td>\n",
       "    </tr>\n",
       "    <tr>\n",
       "      <th>3</th>\n",
       "      <td>10</td>\n",
       "      <td>Milk cow's. powder. skimmed</td>\n",
       "      <td>52.8</td>\n",
       "      <td>45.0</td>\n",
       "      <td>24.0</td>\n",
       "      <td>4</td>\n",
       "      <td>3</td>\n",
       "      <td>0</td>\n",
       "    </tr>\n",
       "    <tr>\n",
       "      <th>4</th>\n",
       "      <td>10</td>\n",
       "      <td>Milk cow's. powder. skimmed</td>\n",
       "      <td>52.8</td>\n",
       "      <td>45.0</td>\n",
       "      <td>24.0</td>\n",
       "      <td>4</td>\n",
       "      <td>65</td>\n",
       "      <td>1</td>\n",
       "    </tr>\n",
       "  </tbody>\n",
       "</table>\n",
       "</div>"
      ],
      "text/plain": [
       "   eats_id                                          Food name  CHO (g/100g)  \\\n",
       "0        1       Goats milk soft cheese. full fat. white rind           1.0   \n",
       "1        6  Chinese herb soup. mixture 3. ching bo leung. ...           3.7   \n",
       "2        9                                   Sag. cooked dish           5.5   \n",
       "3       10                        Milk cow's. powder. skimmed          52.8   \n",
       "4       10                        Milk cow's. powder. skimmed          52.8   \n",
       "\n",
       "   GI value    GL  GI confidence level  user_id  rating  \n",
       "0      34.0   0.0                    3       66       1  \n",
       "1      70.0   3.0                    5       47       1  \n",
       "2      70.0   4.0                    5       35       0  \n",
       "3      45.0  24.0                    4        3       0  \n",
       "4      45.0  24.0                    4       65       1  "
      ]
     },
     "execution_count": 12,
     "metadata": {},
     "output_type": "execute_result"
    }
   ],
   "source": [
    "print(result.shape)\n",
    "result.head()"
   ]
  },
  {
   "cell_type": "code",
   "execution_count": 13,
   "metadata": {},
   "outputs": [
    {
     "data": {
      "text/plain": [
       "eats_id                False\n",
       "Food name              False\n",
       "CHO (g/100g)           False\n",
       "GI value               False\n",
       "GL                     False\n",
       "GI confidence level    False\n",
       "user_id                False\n",
       "rating                 False\n",
       "dtype: bool"
      ]
     },
     "execution_count": 13,
     "metadata": {},
     "output_type": "execute_result"
    }
   ],
   "source": [
    "# Проверяем есть ли отсутствующие значения\n",
    "result.isnull().any()"
   ]
  },
  {
   "cell_type": "markdown",
   "metadata": {},
   "source": [
    "# Create a eats recommender"
   ]
  },
  {
   "cell_type": "code",
   "execution_count": 14,
   "metadata": {},
   "outputs": [
    {
     "name": "stdout",
     "output_type": "stream",
     "text": [
      "     eats_id                                     Food name  CHO (g/100g)  \\\n",
      "867      888                                  Coffee latte           8.0   \n",
      "741      767       Jacobs Thai Bites (Sweet Herb flavour)           82.8   \n",
      "467      514  Tomatoes chopped with basil - tinned (Biona)           2.9   \n",
      "442      496              Organic crunchy cereal (Jordans)          57.2   \n",
      "610      644                        Knorr Fish Stock Cubes          17.8   \n",
      "\n",
      "     GI value    GL  GI confidence level  user_id  rating  \n",
      "867      34.0   3.0                    3       87       1  \n",
      "741      63.0  52.0                    3        3       1  \n",
      "467      45.0   1.0                    4       49       0  \n",
      "442      55.0  31.0                    3       62       0  \n",
      "610      70.0  12.0                    5       44       0  \n"
     ]
    }
   ],
   "source": [
    "train_data, test_data = train_test_split(result, test_size = 0.20, random_state=0)\n",
    "print(train_data.head(5))"
   ]
  },
  {
   "cell_type": "markdown",
   "metadata": {},
   "source": [
    "# Simple popularity-based recommender class (Can be used as a black box)"
   ]
  },
  {
   "cell_type": "markdown",
   "metadata": {},
   "source": [
    "# Create an instance of popularity based recommender class"
   ]
  },
  {
   "cell_type": "code",
   "execution_count": 16,
   "metadata": {},
   "outputs": [],
   "source": [
    "pm = Recommenders.popularity_recommender_py()\n",
    "pm.create(train_data, 'user_id', 'Food name')"
   ]
  },
  {
   "cell_type": "markdown",
   "metadata": {},
   "source": [
    "# Use the popularity model to make some predictions"
   ]
  },
  {
   "cell_type": "code",
   "execution_count": 17,
   "metadata": {},
   "outputs": [
    {
     "data": {
      "text/html": [
       "<div>\n",
       "<style scoped>\n",
       "    .dataframe tbody tr th:only-of-type {\n",
       "        vertical-align: middle;\n",
       "    }\n",
       "\n",
       "    .dataframe tbody tr th {\n",
       "        vertical-align: top;\n",
       "    }\n",
       "\n",
       "    .dataframe thead th {\n",
       "        text-align: right;\n",
       "    }\n",
       "</style>\n",
       "<table border=\"1\" class=\"dataframe\">\n",
       "  <thead>\n",
       "    <tr style=\"text-align: right;\">\n",
       "      <th></th>\n",
       "      <th>user_id</th>\n",
       "      <th>Food name</th>\n",
       "      <th>score</th>\n",
       "      <th>Rank</th>\n",
       "    </tr>\n",
       "  </thead>\n",
       "  <tbody>\n",
       "    <tr>\n",
       "      <th>62</th>\n",
       "      <td>48</td>\n",
       "      <td>Boots shapers cheese salad sandwich (180g)</td>\n",
       "      <td>4</td>\n",
       "      <td>1.0</td>\n",
       "    </tr>\n",
       "    <tr>\n",
       "      <th>91</th>\n",
       "      <td>48</td>\n",
       "      <td>Cheese &amp; Veg. omelette (Slimming World 35-004-...</td>\n",
       "      <td>4</td>\n",
       "      <td>2.0</td>\n",
       "    </tr>\n",
       "    <tr>\n",
       "      <th>107</th>\n",
       "      <td>48</td>\n",
       "      <td>Chicken and Mushroom Rice (Sharwood's)</td>\n",
       "      <td>4</td>\n",
       "      <td>3.0</td>\n",
       "    </tr>\n",
       "    <tr>\n",
       "      <th>163</th>\n",
       "      <td>48</td>\n",
       "      <td>Dried Blueberries</td>\n",
       "      <td>4</td>\n",
       "      <td>4.0</td>\n",
       "    </tr>\n",
       "    <tr>\n",
       "      <th>231</th>\n",
       "      <td>48</td>\n",
       "      <td>Hot and spicy chicken steaks (Farmfood)</td>\n",
       "      <td>4</td>\n",
       "      <td>5.0</td>\n",
       "    </tr>\n",
       "    <tr>\n",
       "      <th>331</th>\n",
       "      <td>48</td>\n",
       "      <td>Olivio spread</td>\n",
       "      <td>4</td>\n",
       "      <td>6.0</td>\n",
       "    </tr>\n",
       "    <tr>\n",
       "      <th>622</th>\n",
       "      <td>48</td>\n",
       "      <td>light soy sauce</td>\n",
       "      <td>4</td>\n",
       "      <td>7.0</td>\n",
       "    </tr>\n",
       "    <tr>\n",
       "      <th>625</th>\n",
       "      <td>48</td>\n",
       "      <td>millionaires biscuits (Fox's)</td>\n",
       "      <td>4</td>\n",
       "      <td>8.0</td>\n",
       "    </tr>\n",
       "    <tr>\n",
       "      <th>0</th>\n",
       "      <td>48</td>\n",
       "      <td>3 min noodles won ton flavour dry wght(Blue Dr...</td>\n",
       "      <td>3</td>\n",
       "      <td>9.0</td>\n",
       "    </tr>\n",
       "    <tr>\n",
       "      <th>25</th>\n",
       "      <td>48</td>\n",
       "      <td>Asda Chicken Tikka Masala</td>\n",
       "      <td>3</td>\n",
       "      <td>10.0</td>\n",
       "    </tr>\n",
       "  </tbody>\n",
       "</table>\n",
       "</div>"
      ],
      "text/plain": [
       "     user_id                                          Food name  score  Rank\n",
       "62        48         Boots shapers cheese salad sandwich (180g)      4   1.0\n",
       "91        48  Cheese & Veg. omelette (Slimming World 35-004-...      4   2.0\n",
       "107       48             Chicken and Mushroom Rice (Sharwood's)      4   3.0\n",
       "163       48                                  Dried Blueberries      4   4.0\n",
       "231       48            Hot and spicy chicken steaks (Farmfood)      4   5.0\n",
       "331       48                                      Olivio spread      4   6.0\n",
       "622       48                                    light soy sauce      4   7.0\n",
       "625       48                      millionaires biscuits (Fox's)      4   8.0\n",
       "0         48  3 min noodles won ton flavour dry wght(Blue Dr...      3   9.0\n",
       "25        48                          Asda Chicken Tikka Masala      3  10.0"
      ]
     },
     "execution_count": 17,
     "metadata": {},
     "output_type": "execute_result"
    }
   ],
   "source": [
    "user_id = users[5]\n",
    "pm.recommend(user_id)"
   ]
  },
  {
   "cell_type": "code",
   "execution_count": 18,
   "metadata": {},
   "outputs": [
    {
     "data": {
      "text/html": [
       "<div>\n",
       "<style scoped>\n",
       "    .dataframe tbody tr th:only-of-type {\n",
       "        vertical-align: middle;\n",
       "    }\n",
       "\n",
       "    .dataframe tbody tr th {\n",
       "        vertical-align: top;\n",
       "    }\n",
       "\n",
       "    .dataframe thead th {\n",
       "        text-align: right;\n",
       "    }\n",
       "</style>\n",
       "<table border=\"1\" class=\"dataframe\">\n",
       "  <thead>\n",
       "    <tr style=\"text-align: right;\">\n",
       "      <th></th>\n",
       "      <th>user_id</th>\n",
       "      <th>Food name</th>\n",
       "      <th>score</th>\n",
       "      <th>Rank</th>\n",
       "    </tr>\n",
       "  </thead>\n",
       "  <tbody>\n",
       "    <tr>\n",
       "      <th>62</th>\n",
       "      <td>120</td>\n",
       "      <td>Boots shapers cheese salad sandwich (180g)</td>\n",
       "      <td>4</td>\n",
       "      <td>1.0</td>\n",
       "    </tr>\n",
       "    <tr>\n",
       "      <th>91</th>\n",
       "      <td>120</td>\n",
       "      <td>Cheese &amp; Veg. omelette (Slimming World 35-004-...</td>\n",
       "      <td>4</td>\n",
       "      <td>2.0</td>\n",
       "    </tr>\n",
       "    <tr>\n",
       "      <th>107</th>\n",
       "      <td>120</td>\n",
       "      <td>Chicken and Mushroom Rice (Sharwood's)</td>\n",
       "      <td>4</td>\n",
       "      <td>3.0</td>\n",
       "    </tr>\n",
       "    <tr>\n",
       "      <th>163</th>\n",
       "      <td>120</td>\n",
       "      <td>Dried Blueberries</td>\n",
       "      <td>4</td>\n",
       "      <td>4.0</td>\n",
       "    </tr>\n",
       "    <tr>\n",
       "      <th>231</th>\n",
       "      <td>120</td>\n",
       "      <td>Hot and spicy chicken steaks (Farmfood)</td>\n",
       "      <td>4</td>\n",
       "      <td>5.0</td>\n",
       "    </tr>\n",
       "    <tr>\n",
       "      <th>331</th>\n",
       "      <td>120</td>\n",
       "      <td>Olivio spread</td>\n",
       "      <td>4</td>\n",
       "      <td>6.0</td>\n",
       "    </tr>\n",
       "    <tr>\n",
       "      <th>622</th>\n",
       "      <td>120</td>\n",
       "      <td>light soy sauce</td>\n",
       "      <td>4</td>\n",
       "      <td>7.0</td>\n",
       "    </tr>\n",
       "    <tr>\n",
       "      <th>625</th>\n",
       "      <td>120</td>\n",
       "      <td>millionaires biscuits (Fox's)</td>\n",
       "      <td>4</td>\n",
       "      <td>8.0</td>\n",
       "    </tr>\n",
       "    <tr>\n",
       "      <th>0</th>\n",
       "      <td>120</td>\n",
       "      <td>3 min noodles won ton flavour dry wght(Blue Dr...</td>\n",
       "      <td>3</td>\n",
       "      <td>9.0</td>\n",
       "    </tr>\n",
       "    <tr>\n",
       "      <th>25</th>\n",
       "      <td>120</td>\n",
       "      <td>Asda Chicken Tikka Masala</td>\n",
       "      <td>3</td>\n",
       "      <td>10.0</td>\n",
       "    </tr>\n",
       "  </tbody>\n",
       "</table>\n",
       "</div>"
      ],
      "text/plain": [
       "     user_id                                          Food name  score  Rank\n",
       "62       120         Boots shapers cheese salad sandwich (180g)      4   1.0\n",
       "91       120  Cheese & Veg. omelette (Slimming World 35-004-...      4   2.0\n",
       "107      120             Chicken and Mushroom Rice (Sharwood's)      4   3.0\n",
       "163      120                                  Dried Blueberries      4   4.0\n",
       "231      120            Hot and spicy chicken steaks (Farmfood)      4   5.0\n",
       "331      120                                      Olivio spread      4   6.0\n",
       "622      120                                    light soy sauce      4   7.0\n",
       "625      120                      millionaires biscuits (Fox's)      4   8.0\n",
       "0        120  3 min noodles won ton flavour dry wght(Blue Dr...      3   9.0\n",
       "25       120                          Asda Chicken Tikka Masala      3  10.0"
      ]
     },
     "execution_count": 18,
     "metadata": {},
     "output_type": "execute_result"
    }
   ],
   "source": [
    "user_id = users[16]\n",
    "pm.recommend(user_id)"
   ]
  },
  {
   "cell_type": "markdown",
   "metadata": {},
   "source": [
    "# Create an instance of item similarity based recommender class"
   ]
  },
  {
   "cell_type": "code",
   "execution_count": 19,
   "metadata": {},
   "outputs": [],
   "source": [
    "is_model = Recommenders.item_similarity_recommender_py()\n",
    "is_model.create(train_data, 'user_id', 'Food name')"
   ]
  },
  {
   "cell_type": "markdown",
   "metadata": {},
   "source": [
    "## Use the personalized model to make some eats recommendations"
   ]
  },
  {
   "cell_type": "code",
   "execution_count": 23,
   "metadata": {},
   "outputs": [
    {
     "name": "stdout",
     "output_type": "stream",
     "text": [
      "------------------------------------------------------------------------------------\n",
      "Training data eats for the user userid: 67:\n",
      "------------------------------------------------------------------------------------\n",
      "Mediterranean Style Salad (Safeway)\n",
      "double decker\n",
      "Magnum ice cream lolly (Walls)\n",
      "Cup a soup - chicken & sweetcorn (Tesco)\n",
      "italian risotto mushroom [rice cuisine]\n",
      "Chicken Jalfrezi\n",
      "Sweet&sour chicken rice (tesco Kids)\n",
      "Garden Pre-pack Salad (lett/tom/cuc etc)\n",
      "----------------------------------------------------------------------\n",
      "Recommendation process going on:\n",
      "----------------------------------------------------------------------\n",
      "No. of unique songs for the user: 8\n",
      "no. of unique songs in the training set: 667\n",
      "Non zero values in cooccurence_matrix :124\n"
     ]
    },
    {
     "data": {
      "text/html": [
       "<div>\n",
       "<style scoped>\n",
       "    .dataframe tbody tr th:only-of-type {\n",
       "        vertical-align: middle;\n",
       "    }\n",
       "\n",
       "    .dataframe tbody tr th {\n",
       "        vertical-align: top;\n",
       "    }\n",
       "\n",
       "    .dataframe thead th {\n",
       "        text-align: right;\n",
       "    }\n",
       "</style>\n",
       "<table border=\"1\" class=\"dataframe\">\n",
       "  <thead>\n",
       "    <tr style=\"text-align: right;\">\n",
       "      <th></th>\n",
       "      <th>user_id</th>\n",
       "      <th>song</th>\n",
       "      <th>score</th>\n",
       "      <th>rank</th>\n",
       "    </tr>\n",
       "  </thead>\n",
       "  <tbody>\n",
       "    <tr>\n",
       "      <th>0</th>\n",
       "      <td>67</td>\n",
       "      <td>Hovis best of both bread</td>\n",
       "      <td>0.0625</td>\n",
       "      <td>1</td>\n",
       "    </tr>\n",
       "    <tr>\n",
       "      <th>1</th>\n",
       "      <td>67</td>\n",
       "      <td>Chicken salad sandwich (Tesco)</td>\n",
       "      <td>0.0625</td>\n",
       "      <td>2</td>\n",
       "    </tr>\n",
       "    <tr>\n",
       "      <th>2</th>\n",
       "      <td>67</td>\n",
       "      <td>Salad sandwich (Sommerfield)</td>\n",
       "      <td>0.0625</td>\n",
       "      <td>3</td>\n",
       "    </tr>\n",
       "    <tr>\n",
       "      <th>3</th>\n",
       "      <td>67</td>\n",
       "      <td>Brocolli &amp; Chees soup (Slimming World 35-008-02s)</td>\n",
       "      <td>0.0625</td>\n",
       "      <td>4</td>\n",
       "    </tr>\n",
       "    <tr>\n",
       "      <th>4</th>\n",
       "      <td>67</td>\n",
       "      <td>Sains TTD Spanish paella 2portion=700g</td>\n",
       "      <td>0.0625</td>\n",
       "      <td>5</td>\n",
       "    </tr>\n",
       "    <tr>\n",
       "      <th>5</th>\n",
       "      <td>67</td>\n",
       "      <td>Tesco Raisin Wheats</td>\n",
       "      <td>0.0625</td>\n",
       "      <td>6</td>\n",
       "    </tr>\n",
       "    <tr>\n",
       "      <th>6</th>\n",
       "      <td>67</td>\n",
       "      <td>Special K Medley</td>\n",
       "      <td>0.0625</td>\n",
       "      <td>7</td>\n",
       "    </tr>\n",
       "    <tr>\n",
       "      <th>7</th>\n",
       "      <td>67</td>\n",
       "      <td>Choc. Croissant</td>\n",
       "      <td>0.0625</td>\n",
       "      <td>8</td>\n",
       "    </tr>\n",
       "    <tr>\n",
       "      <th>8</th>\n",
       "      <td>67</td>\n",
       "      <td>Tesco Italian Mascarpone</td>\n",
       "      <td>0.0625</td>\n",
       "      <td>9</td>\n",
       "    </tr>\n",
       "    <tr>\n",
       "      <th>9</th>\n",
       "      <td>67</td>\n",
       "      <td>BK Hot Chocolate</td>\n",
       "      <td>0.0625</td>\n",
       "      <td>10</td>\n",
       "    </tr>\n",
       "  </tbody>\n",
       "</table>\n",
       "</div>"
      ],
      "text/plain": [
       "  user_id                                               song   score rank\n",
       "0      67                           Hovis best of both bread  0.0625    1\n",
       "1      67                     Chicken salad sandwich (Tesco)  0.0625    2\n",
       "2      67                       Salad sandwich (Sommerfield)  0.0625    3\n",
       "3      67  Brocolli & Chees soup (Slimming World 35-008-02s)  0.0625    4\n",
       "4      67             Sains TTD Spanish paella 2portion=700g  0.0625    5\n",
       "5      67                                Tesco Raisin Wheats  0.0625    6\n",
       "6      67                                   Special K Medley  0.0625    7\n",
       "7      67                                    Choc. Croissant  0.0625    8\n",
       "8      67                           Tesco Italian Mascarpone  0.0625    9\n",
       "9      67                                   BK Hot Chocolate  0.0625   10"
      ]
     },
     "execution_count": 23,
     "metadata": {},
     "output_type": "execute_result"
    }
   ],
   "source": [
    "#Print the eats for the user in training data\n",
    "user_id = users[23]\n",
    "user_items = is_model.get_user_items(user_id)\n",
    "#\n",
    "print(\"------------------------------------------------------------------------------------\")\n",
    "print(\"Training data eats for the user userid: %s:\" % user_id)\n",
    "print(\"------------------------------------------------------------------------------------\")\n",
    "\n",
    "for user_item in user_items:\n",
    "    print(user_item)\n",
    "\n",
    "print(\"----------------------------------------------------------------------\")\n",
    "print(\"Recommendation process going on:\")\n",
    "print(\"----------------------------------------------------------------------\")\n",
    "\n",
    "#Recommend eats for the user using personalized model\n",
    "is_model.recommend(user_id)"
   ]
  },
  {
   "cell_type": "markdown",
   "metadata": {},
   "source": [
    "### Use the personalized model to make recommendations for the following user id. (Note the difference in recommendations from the first user id.)¶"
   ]
  },
  {
   "cell_type": "code",
   "execution_count": 24,
   "metadata": {},
   "outputs": [
    {
     "name": "stdout",
     "output_type": "stream",
     "text": [
      "------------------------------------------------------------------------------------\n",
      "Training data eats for the user userid: 5:\n",
      "------------------------------------------------------------------------------------\n",
      "Olivio spread\n",
      "Individual Bakewell Tart (Tesco)\n",
      "Benecol Strawberry Yoghurt\n",
      "Chinese veg stir fry\n",
      "St Pierre Brioche\n",
      "Tesco Organic Sundried Tomato Houmous\n",
      "Montana Bakery garlic doughballs (9g each)\n",
      "----------------------------------------------------------------------\n",
      "Recommendation process going on:\n",
      "----------------------------------------------------------------------\n",
      "No. of unique songs for the user: 7\n",
      "no. of unique songs in the training set: 667\n",
      "Non zero values in cooccurence_matrix :89\n"
     ]
    },
    {
     "data": {
      "text/html": [
       "<div>\n",
       "<style scoped>\n",
       "    .dataframe tbody tr th:only-of-type {\n",
       "        vertical-align: middle;\n",
       "    }\n",
       "\n",
       "    .dataframe tbody tr th {\n",
       "        vertical-align: top;\n",
       "    }\n",
       "\n",
       "    .dataframe thead th {\n",
       "        text-align: right;\n",
       "    }\n",
       "</style>\n",
       "<table border=\"1\" class=\"dataframe\">\n",
       "  <thead>\n",
       "    <tr style=\"text-align: right;\">\n",
       "      <th></th>\n",
       "      <th>user_id</th>\n",
       "      <th>song</th>\n",
       "      <th>score</th>\n",
       "      <th>rank</th>\n",
       "    </tr>\n",
       "  </thead>\n",
       "  <tbody>\n",
       "    <tr>\n",
       "      <th>0</th>\n",
       "      <td>5</td>\n",
       "      <td>Craisins cranberries (Original) - Ocean Spray</td>\n",
       "      <td>0.071429</td>\n",
       "      <td>1</td>\n",
       "    </tr>\n",
       "    <tr>\n",
       "      <th>1</th>\n",
       "      <td>5</td>\n",
       "      <td>LF Prawn Cocktail</td>\n",
       "      <td>0.071429</td>\n",
       "      <td>2</td>\n",
       "    </tr>\n",
       "    <tr>\n",
       "      <th>2</th>\n",
       "      <td>5</td>\n",
       "      <td>kettle crisps</td>\n",
       "      <td>0.071429</td>\n",
       "      <td>3</td>\n",
       "    </tr>\n",
       "    <tr>\n",
       "      <th>3</th>\n",
       "      <td>5</td>\n",
       "      <td>Spaghetti Bolognese ready meal (Tesco)</td>\n",
       "      <td>0.071429</td>\n",
       "      <td>4</td>\n",
       "    </tr>\n",
       "    <tr>\n",
       "      <th>4</th>\n",
       "      <td>5</td>\n",
       "      <td>Solero ice cream</td>\n",
       "      <td>0.071429</td>\n",
       "      <td>5</td>\n",
       "    </tr>\n",
       "    <tr>\n",
       "      <th>5</th>\n",
       "      <td>5</td>\n",
       "      <td>Rocky Biscuit (Red)</td>\n",
       "      <td>0.047619</td>\n",
       "      <td>6</td>\n",
       "    </tr>\n",
       "    <tr>\n",
       "      <th>6</th>\n",
       "      <td>5</td>\n",
       "      <td>Marshmallow teacakes (Tunnocks)</td>\n",
       "      <td>0.047619</td>\n",
       "      <td>7</td>\n",
       "    </tr>\n",
       "    <tr>\n",
       "      <th>7</th>\n",
       "      <td>5</td>\n",
       "      <td>Tagliatelle (Dry)</td>\n",
       "      <td>0.047619</td>\n",
       "      <td>8</td>\n",
       "    </tr>\n",
       "    <tr>\n",
       "      <th>8</th>\n",
       "      <td>5</td>\n",
       "      <td>Heinz mild mustard pickle (Heinz)</td>\n",
       "      <td>0.047619</td>\n",
       "      <td>9</td>\n",
       "    </tr>\n",
       "    <tr>\n",
       "      <th>9</th>\n",
       "      <td>5</td>\n",
       "      <td>snack a jacks cheese and chive</td>\n",
       "      <td>0.047619</td>\n",
       "      <td>10</td>\n",
       "    </tr>\n",
       "  </tbody>\n",
       "</table>\n",
       "</div>"
      ],
      "text/plain": [
       "  user_id                                           song     score rank\n",
       "0       5  Craisins cranberries (Original) - Ocean Spray  0.071429    1\n",
       "1       5                              LF Prawn Cocktail  0.071429    2\n",
       "2       5                                  kettle crisps  0.071429    3\n",
       "3       5        Spaghetti Bolognese ready meal (Tesco)   0.071429    4\n",
       "4       5                              Solero ice cream   0.071429    5\n",
       "5       5                            Rocky Biscuit (Red)  0.047619    6\n",
       "6       5               Marshmallow teacakes (Tunnocks)   0.047619    7\n",
       "7       5                              Tagliatelle (Dry)  0.047619    8\n",
       "8       5              Heinz mild mustard pickle (Heinz)  0.047619    9\n",
       "9       5                 snack a jacks cheese and chive  0.047619   10"
      ]
     },
     "execution_count": 24,
     "metadata": {},
     "output_type": "execute_result"
    }
   ],
   "source": [
    "user_id = users[7]\n",
    "#Fill in the code here\n",
    "user_items = is_model.get_user_items(user_id)\n",
    "#\n",
    "print(\"------------------------------------------------------------------------------------\")\n",
    "print(\"Training data eats for the user userid: %s:\" % user_id)\n",
    "print(\"------------------------------------------------------------------------------------\")\n",
    "\n",
    "for user_item in user_items:\n",
    "    print(user_item)\n",
    "\n",
    "print(\"----------------------------------------------------------------------\")\n",
    "print(\"Recommendation process going on:\")\n",
    "print(\"----------------------------------------------------------------------\")\n",
    "\n",
    "#Recommend songs for the user using personalized model\n",
    "is_model.recommend(user_id)"
   ]
  },
  {
   "cell_type": "markdown",
   "metadata": {},
   "source": [
    "### Model to find similar eats to any eats in the dataset"
   ]
  },
  {
   "cell_type": "code",
   "execution_count": 28,
   "metadata": {},
   "outputs": [
    {
     "name": "stdout",
     "output_type": "stream",
     "text": [
      "no. of unique songs in the training set: 667\n",
      "Non zero values in cooccurence_matrix :10\n"
     ]
    },
    {
     "data": {
      "text/html": [
       "<div>\n",
       "<style scoped>\n",
       "    .dataframe tbody tr th:only-of-type {\n",
       "        vertical-align: middle;\n",
       "    }\n",
       "\n",
       "    .dataframe tbody tr th {\n",
       "        vertical-align: top;\n",
       "    }\n",
       "\n",
       "    .dataframe thead th {\n",
       "        text-align: right;\n",
       "    }\n",
       "</style>\n",
       "<table border=\"1\" class=\"dataframe\">\n",
       "  <thead>\n",
       "    <tr style=\"text-align: right;\">\n",
       "      <th></th>\n",
       "      <th>user_id</th>\n",
       "      <th>song</th>\n",
       "      <th>score</th>\n",
       "      <th>rank</th>\n",
       "    </tr>\n",
       "  </thead>\n",
       "  <tbody>\n",
       "    <tr>\n",
       "      <th>0</th>\n",
       "      <td></td>\n",
       "      <td>Craisins cranberries (Original) - Ocean Spray</td>\n",
       "      <td>1.000000</td>\n",
       "      <td>1</td>\n",
       "    </tr>\n",
       "    <tr>\n",
       "      <th>1</th>\n",
       "      <td></td>\n",
       "      <td>Somerfield Raspberry Pavlova (serving=57g)</td>\n",
       "      <td>0.500000</td>\n",
       "      <td>2</td>\n",
       "    </tr>\n",
       "    <tr>\n",
       "      <th>2</th>\n",
       "      <td></td>\n",
       "      <td>Garlic mayonaise (Simply Delicious)</td>\n",
       "      <td>0.500000</td>\n",
       "      <td>3</td>\n",
       "    </tr>\n",
       "    <tr>\n",
       "      <th>3</th>\n",
       "      <td></td>\n",
       "      <td>diet 7 up</td>\n",
       "      <td>0.500000</td>\n",
       "      <td>4</td>\n",
       "    </tr>\n",
       "    <tr>\n",
       "      <th>4</th>\n",
       "      <td></td>\n",
       "      <td>Individual Bakewell Tart (Tesco)</td>\n",
       "      <td>0.500000</td>\n",
       "      <td>5</td>\n",
       "    </tr>\n",
       "    <tr>\n",
       "      <th>5</th>\n",
       "      <td></td>\n",
       "      <td>Tesco Brussels Pate</td>\n",
       "      <td>0.333333</td>\n",
       "      <td>6</td>\n",
       "    </tr>\n",
       "    <tr>\n",
       "      <th>6</th>\n",
       "      <td></td>\n",
       "      <td>mexican sauce- chicken tonight</td>\n",
       "      <td>0.333333</td>\n",
       "      <td>7</td>\n",
       "    </tr>\n",
       "    <tr>\n",
       "      <th>7</th>\n",
       "      <td></td>\n",
       "      <td>Minced beef casserole (Sainsbury's)</td>\n",
       "      <td>0.333333</td>\n",
       "      <td>8</td>\n",
       "    </tr>\n",
       "    <tr>\n",
       "      <th>8</th>\n",
       "      <td></td>\n",
       "      <td>Chicken pie (Lean Cuisine)</td>\n",
       "      <td>0.333333</td>\n",
       "      <td>9</td>\n",
       "    </tr>\n",
       "    <tr>\n",
       "      <th>9</th>\n",
       "      <td></td>\n",
       "      <td>Sainsbury's Oriental Vegetable Stirfry</td>\n",
       "      <td>0.000000</td>\n",
       "      <td>10</td>\n",
       "    </tr>\n",
       "  </tbody>\n",
       "</table>\n",
       "</div>"
      ],
      "text/plain": [
       "  user_id                                           song     score rank\n",
       "0          Craisins cranberries (Original) - Ocean Spray  1.000000    1\n",
       "1             Somerfield Raspberry Pavlova (serving=57g)  0.500000    2\n",
       "2                    Garlic mayonaise (Simply Delicious)  0.500000    3\n",
       "3                                              diet 7 up  0.500000    4\n",
       "4                       Individual Bakewell Tart (Tesco)  0.500000    5\n",
       "5                                    Tesco Brussels Pate  0.333333    6\n",
       "6                         mexican sauce- chicken tonight  0.333333    7\n",
       "7                    Minced beef casserole (Sainsbury's)  0.333333    8\n",
       "8                             Chicken pie (Lean Cuisine)  0.333333    9\n",
       "9                 Sainsbury's Oriental Vegetable Stirfry  0.000000   10"
      ]
     },
     "execution_count": 28,
     "metadata": {},
     "output_type": "execute_result"
    }
   ],
   "source": [
    "is_model.get_similar_items(['LF Prawn Cocktail'])"
   ]
  }
 ],
 "metadata": {
  "kernelspec": {
   "display_name": "Python 3",
   "language": "python",
   "name": "python3"
  },
  "language_info": {
   "codemirror_mode": {
    "name": "ipython",
    "version": 3
   },
   "file_extension": ".py",
   "mimetype": "text/x-python",
   "name": "python",
   "nbconvert_exporter": "python",
   "pygments_lexer": "ipython3",
   "version": "3.6.4"
  }
 },
 "nbformat": 4,
 "nbformat_minor": 2
}
